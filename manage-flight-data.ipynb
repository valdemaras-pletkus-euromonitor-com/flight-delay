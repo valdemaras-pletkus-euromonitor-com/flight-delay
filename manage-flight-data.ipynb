{
 "cells": [
  {
   "cell_type": "markdown",
   "metadata": {},
   "source": [
    "# Flight Delay Data Management and Machine Learning\n",
    "\n",
    "This notebook works with the FAA flight dataset from 2013 to:\n",
    "1. Cleanse the data by identifying and replacing null values with zero\n",
    "2. Create a machine learning model to predict flight delays (>15 minutes) based on day of week and airport\n",
    "3. Save the trained model to a file for external use\n",
    "4. Create a CSV file containing all airports and their associated IDs"
   ]
  },
  {
   "cell_type": "code",
   "execution_count": 1,
   "metadata": {
    "execution": {
     "iopub.execute_input": "2025-09-25T09:25:33.618877Z",
     "iopub.status.busy": "2025-09-25T09:25:33.618656Z",
     "iopub.status.idle": "2025-09-25T09:25:36.623717Z",
     "shell.execute_reply": "2025-09-25T09:25:36.623197Z"
    }
   },
   "outputs": [
    {
     "name": "stdout",
     "output_type": "stream",
     "text": [
      "Libraries imported successfully!\n"
     ]
    }
   ],
   "source": [
    "# Import required libraries\n",
    "import pandas as pd\n",
    "import numpy as np\n",
    "import matplotlib.pyplot as plt\n",
    "import seaborn as sns\n",
    "from sklearn.model_selection import train_test_split\n",
    "from sklearn.linear_model import LogisticRegression\n",
    "from sklearn.metrics import confusion_matrix, classification_report, accuracy_score\n",
    "import pickle\n",
    "\n",
    "# Display settings\n",
    "pd.set_option('display.max_columns', None)\n",
    "pd.set_option('display.width', 1000)\n",
    "print(\"Libraries imported successfully!\")"
   ]
  },
  {
   "cell_type": "code",
   "execution_count": 2,
   "metadata": {
    "execution": {
     "iopub.execute_input": "2025-09-25T09:25:36.656609Z",
     "iopub.status.busy": "2025-09-25T09:25:36.656230Z",
     "iopub.status.idle": "2025-09-25T09:25:36.993478Z",
     "shell.execute_reply": "2025-09-25T09:25:36.992901Z"
    }
   },
   "outputs": [
    {
     "name": "stdout",
     "output_type": "stream",
     "text": [
      "Dataset shape: (271940, 20)\n",
      "\n",
      "Column names:\n",
      "['Year', 'Month', 'DayofMonth', 'DayOfWeek', 'Carrier', 'OriginAirportID', 'OriginAirportName', 'OriginCity', 'OriginState', 'DestAirportID', 'DestAirportName', 'DestCity', 'DestState', 'CRSDepTime', 'DepDelay', 'DepDel15', 'CRSArrTime', 'ArrDelay', 'ArrDel15', 'Cancelled']\n"
     ]
    }
   ],
   "source": [
    "# Load the flight data\n",
    "df_flights = pd.read_csv('data/flights.csv')\n",
    "print(f\"Dataset shape: {df_flights.shape}\")\n",
    "print(f\"\\nColumn names:\\n{df_flights.columns.tolist()}\")"
   ]
  },
  {
   "cell_type": "code",
   "execution_count": 3,
   "metadata": {
    "execution": {
     "iopub.execute_input": "2025-09-25T09:25:36.995314Z",
     "iopub.status.busy": "2025-09-25T09:25:36.995127Z",
     "iopub.status.idle": "2025-09-25T09:25:37.008104Z",
     "shell.execute_reply": "2025-09-25T09:25:37.007617Z"
    }
   },
   "outputs": [
    {
     "name": "stdout",
     "output_type": "stream",
     "text": [
      "First 5 rows of the dataset:\n"
     ]
    },
    {
     "data": {
      "text/html": [
       "<div>\n",
       "<style scoped>\n",
       "    .dataframe tbody tr th:only-of-type {\n",
       "        vertical-align: middle;\n",
       "    }\n",
       "\n",
       "    .dataframe tbody tr th {\n",
       "        vertical-align: top;\n",
       "    }\n",
       "\n",
       "    .dataframe thead th {\n",
       "        text-align: right;\n",
       "    }\n",
       "</style>\n",
       "<table border=\"1\" class=\"dataframe\">\n",
       "  <thead>\n",
       "    <tr style=\"text-align: right;\">\n",
       "      <th></th>\n",
       "      <th>Year</th>\n",
       "      <th>Month</th>\n",
       "      <th>DayofMonth</th>\n",
       "      <th>DayOfWeek</th>\n",
       "      <th>Carrier</th>\n",
       "      <th>OriginAirportID</th>\n",
       "      <th>OriginAirportName</th>\n",
       "      <th>OriginCity</th>\n",
       "      <th>OriginState</th>\n",
       "      <th>DestAirportID</th>\n",
       "      <th>DestAirportName</th>\n",
       "      <th>DestCity</th>\n",
       "      <th>DestState</th>\n",
       "      <th>CRSDepTime</th>\n",
       "      <th>DepDelay</th>\n",
       "      <th>DepDel15</th>\n",
       "      <th>CRSArrTime</th>\n",
       "      <th>ArrDelay</th>\n",
       "      <th>ArrDel15</th>\n",
       "      <th>Cancelled</th>\n",
       "    </tr>\n",
       "  </thead>\n",
       "  <tbody>\n",
       "    <tr>\n",
       "      <th>0</th>\n",
       "      <td>2013</td>\n",
       "      <td>9</td>\n",
       "      <td>16</td>\n",
       "      <td>1</td>\n",
       "      <td>DL</td>\n",
       "      <td>15304</td>\n",
       "      <td>Tampa International</td>\n",
       "      <td>Tampa</td>\n",
       "      <td>FL</td>\n",
       "      <td>12478</td>\n",
       "      <td>John F. Kennedy International</td>\n",
       "      <td>New York</td>\n",
       "      <td>NY</td>\n",
       "      <td>1539</td>\n",
       "      <td>4</td>\n",
       "      <td>0.0</td>\n",
       "      <td>1824</td>\n",
       "      <td>13</td>\n",
       "      <td>0</td>\n",
       "      <td>0</td>\n",
       "    </tr>\n",
       "    <tr>\n",
       "      <th>1</th>\n",
       "      <td>2013</td>\n",
       "      <td>9</td>\n",
       "      <td>23</td>\n",
       "      <td>1</td>\n",
       "      <td>WN</td>\n",
       "      <td>14122</td>\n",
       "      <td>Pittsburgh International</td>\n",
       "      <td>Pittsburgh</td>\n",
       "      <td>PA</td>\n",
       "      <td>13232</td>\n",
       "      <td>Chicago Midway International</td>\n",
       "      <td>Chicago</td>\n",
       "      <td>IL</td>\n",
       "      <td>710</td>\n",
       "      <td>3</td>\n",
       "      <td>0.0</td>\n",
       "      <td>740</td>\n",
       "      <td>22</td>\n",
       "      <td>1</td>\n",
       "      <td>0</td>\n",
       "    </tr>\n",
       "    <tr>\n",
       "      <th>2</th>\n",
       "      <td>2013</td>\n",
       "      <td>9</td>\n",
       "      <td>7</td>\n",
       "      <td>6</td>\n",
       "      <td>AS</td>\n",
       "      <td>14747</td>\n",
       "      <td>Seattle/Tacoma International</td>\n",
       "      <td>Seattle</td>\n",
       "      <td>WA</td>\n",
       "      <td>11278</td>\n",
       "      <td>Ronald Reagan Washington National</td>\n",
       "      <td>Washington</td>\n",
       "      <td>DC</td>\n",
       "      <td>810</td>\n",
       "      <td>-3</td>\n",
       "      <td>0.0</td>\n",
       "      <td>1614</td>\n",
       "      <td>-7</td>\n",
       "      <td>0</td>\n",
       "      <td>0</td>\n",
       "    </tr>\n",
       "    <tr>\n",
       "      <th>3</th>\n",
       "      <td>2013</td>\n",
       "      <td>7</td>\n",
       "      <td>22</td>\n",
       "      <td>1</td>\n",
       "      <td>OO</td>\n",
       "      <td>13930</td>\n",
       "      <td>Chicago O'Hare International</td>\n",
       "      <td>Chicago</td>\n",
       "      <td>IL</td>\n",
       "      <td>11042</td>\n",
       "      <td>Cleveland-Hopkins International</td>\n",
       "      <td>Cleveland</td>\n",
       "      <td>OH</td>\n",
       "      <td>804</td>\n",
       "      <td>35</td>\n",
       "      <td>1.0</td>\n",
       "      <td>1027</td>\n",
       "      <td>33</td>\n",
       "      <td>1</td>\n",
       "      <td>0</td>\n",
       "    </tr>\n",
       "    <tr>\n",
       "      <th>4</th>\n",
       "      <td>2013</td>\n",
       "      <td>5</td>\n",
       "      <td>16</td>\n",
       "      <td>4</td>\n",
       "      <td>DL</td>\n",
       "      <td>13931</td>\n",
       "      <td>Norfolk International</td>\n",
       "      <td>Norfolk</td>\n",
       "      <td>VA</td>\n",
       "      <td>10397</td>\n",
       "      <td>Hartsfield-Jackson Atlanta International</td>\n",
       "      <td>Atlanta</td>\n",
       "      <td>GA</td>\n",
       "      <td>545</td>\n",
       "      <td>-1</td>\n",
       "      <td>0.0</td>\n",
       "      <td>728</td>\n",
       "      <td>-9</td>\n",
       "      <td>0</td>\n",
       "      <td>0</td>\n",
       "    </tr>\n",
       "  </tbody>\n",
       "</table>\n",
       "</div>"
      ],
      "text/plain": [
       "   Year  Month  DayofMonth  DayOfWeek Carrier  OriginAirportID             OriginAirportName  OriginCity OriginState  DestAirportID                           DestAirportName    DestCity DestState  CRSDepTime  DepDelay  DepDel15  CRSArrTime  ArrDelay  ArrDel15  Cancelled\n",
       "0  2013      9          16          1      DL            15304           Tampa International       Tampa          FL          12478             John F. Kennedy International    New York        NY        1539         4       0.0        1824        13         0          0\n",
       "1  2013      9          23          1      WN            14122      Pittsburgh International  Pittsburgh          PA          13232              Chicago Midway International     Chicago        IL         710         3       0.0         740        22         1          0\n",
       "2  2013      9           7          6      AS            14747  Seattle/Tacoma International     Seattle          WA          11278         Ronald Reagan Washington National  Washington        DC         810        -3       0.0        1614        -7         0          0\n",
       "3  2013      7          22          1      OO            13930  Chicago O'Hare International     Chicago          IL          11042           Cleveland-Hopkins International   Cleveland        OH         804        35       1.0        1027        33         1          0\n",
       "4  2013      5          16          4      DL            13931         Norfolk International     Norfolk          VA          10397  Hartsfield-Jackson Atlanta International     Atlanta        GA         545        -1       0.0         728        -9         0          0"
      ]
     },
     "execution_count": 3,
     "metadata": {},
     "output_type": "execute_result"
    }
   ],
   "source": [
    "# Display first few rows to understand the data structure\n",
    "print(\"First 5 rows of the dataset:\")\n",
    "df_flights.head()"
   ]
  },
  {
   "cell_type": "code",
   "execution_count": 4,
   "metadata": {
    "execution": {
     "iopub.execute_input": "2025-09-25T09:25:37.009732Z",
     "iopub.status.busy": "2025-09-25T09:25:37.009574Z",
     "iopub.status.idle": "2025-09-25T09:25:37.157255Z",
     "shell.execute_reply": "2025-09-25T09:25:37.156694Z"
    }
   },
   "outputs": [
    {
     "name": "stdout",
     "output_type": "stream",
     "text": [
      "Dataset info:\n",
      "<class 'pandas.core.frame.DataFrame'>\n",
      "RangeIndex: 271940 entries, 0 to 271939\n",
      "Data columns (total 20 columns):\n",
      " #   Column             Non-Null Count   Dtype  \n",
      "---  ------             --------------   -----  \n",
      " 0   Year               271940 non-null  int64  \n",
      " 1   Month              271940 non-null  int64  \n",
      " 2   DayofMonth         271940 non-null  int64  \n",
      " 3   DayOfWeek          271940 non-null  int64  \n",
      " 4   Carrier            271940 non-null  object \n",
      " 5   OriginAirportID    271940 non-null  int64  \n",
      " 6   OriginAirportName  271940 non-null  object \n",
      " 7   OriginCity         271940 non-null  object \n",
      " 8   OriginState        271940 non-null  object \n",
      " 9   DestAirportID      271940 non-null  int64  \n",
      " 10  DestAirportName    271940 non-null  object \n",
      " 11  DestCity           271940 non-null  object \n",
      " 12  DestState          271940 non-null  object \n",
      " 13  CRSDepTime         271940 non-null  int64  \n",
      " 14  DepDelay           271940 non-null  int64  \n",
      " 15  DepDel15           269179 non-null  float64\n",
      " 16  CRSArrTime         271940 non-null  int64  \n",
      " 17  ArrDelay           271940 non-null  int64  \n",
      " 18  ArrDel15           271940 non-null  int64  \n",
      " 19  Cancelled          271940 non-null  int64  \n",
      "dtypes: float64(1), int64(12), object(7)\n",
      "memory usage: 41.5+ MB\n",
      "\n",
      "Basic statistics:\n"
     ]
    },
    {
     "data": {
      "text/html": [
       "<div>\n",
       "<style scoped>\n",
       "    .dataframe tbody tr th:only-of-type {\n",
       "        vertical-align: middle;\n",
       "    }\n",
       "\n",
       "    .dataframe tbody tr th {\n",
       "        vertical-align: top;\n",
       "    }\n",
       "\n",
       "    .dataframe thead th {\n",
       "        text-align: right;\n",
       "    }\n",
       "</style>\n",
       "<table border=\"1\" class=\"dataframe\">\n",
       "  <thead>\n",
       "    <tr style=\"text-align: right;\">\n",
       "      <th></th>\n",
       "      <th>Year</th>\n",
       "      <th>Month</th>\n",
       "      <th>DayofMonth</th>\n",
       "      <th>DayOfWeek</th>\n",
       "      <th>OriginAirportID</th>\n",
       "      <th>DestAirportID</th>\n",
       "      <th>CRSDepTime</th>\n",
       "      <th>DepDelay</th>\n",
       "      <th>DepDel15</th>\n",
       "      <th>CRSArrTime</th>\n",
       "      <th>ArrDelay</th>\n",
       "      <th>ArrDel15</th>\n",
       "      <th>Cancelled</th>\n",
       "    </tr>\n",
       "  </thead>\n",
       "  <tbody>\n",
       "    <tr>\n",
       "      <th>count</th>\n",
       "      <td>271940.0</td>\n",
       "      <td>271940.000000</td>\n",
       "      <td>271940.000000</td>\n",
       "      <td>271940.000000</td>\n",
       "      <td>271940.000000</td>\n",
       "      <td>271940.000000</td>\n",
       "      <td>271940.000000</td>\n",
       "      <td>271940.000000</td>\n",
       "      <td>269179.000000</td>\n",
       "      <td>271940.000000</td>\n",
       "      <td>271940.000000</td>\n",
       "      <td>271940.000000</td>\n",
       "      <td>271940.000000</td>\n",
       "    </tr>\n",
       "    <tr>\n",
       "      <th>mean</th>\n",
       "      <td>2013.0</td>\n",
       "      <td>6.978514</td>\n",
       "      <td>15.814775</td>\n",
       "      <td>3.899316</td>\n",
       "      <td>12744.899584</td>\n",
       "      <td>12739.136493</td>\n",
       "      <td>1325.498713</td>\n",
       "      <td>10.350449</td>\n",
       "      <td>0.201134</td>\n",
       "      <td>1505.477819</td>\n",
       "      <td>6.496650</td>\n",
       "      <td>0.215930</td>\n",
       "      <td>0.010723</td>\n",
       "    </tr>\n",
       "    <tr>\n",
       "      <th>std</th>\n",
       "      <td>0.0</td>\n",
       "      <td>1.982431</td>\n",
       "      <td>8.799033</td>\n",
       "      <td>1.987219</td>\n",
       "      <td>1501.199773</td>\n",
       "      <td>1502.569949</td>\n",
       "      <td>470.748546</td>\n",
       "      <td>35.673710</td>\n",
       "      <td>0.400849</td>\n",
       "      <td>493.204020</td>\n",
       "      <td>38.230331</td>\n",
       "      <td>0.411467</td>\n",
       "      <td>0.102995</td>\n",
       "    </tr>\n",
       "    <tr>\n",
       "      <th>min</th>\n",
       "      <td>2013.0</td>\n",
       "      <td>4.000000</td>\n",
       "      <td>1.000000</td>\n",
       "      <td>1.000000</td>\n",
       "      <td>10140.000000</td>\n",
       "      <td>10140.000000</td>\n",
       "      <td>1.000000</td>\n",
       "      <td>-63.000000</td>\n",
       "      <td>0.000000</td>\n",
       "      <td>1.000000</td>\n",
       "      <td>-75.000000</td>\n",
       "      <td>0.000000</td>\n",
       "      <td>0.000000</td>\n",
       "    </tr>\n",
       "    <tr>\n",
       "      <th>25%</th>\n",
       "      <td>2013.0</td>\n",
       "      <td>5.000000</td>\n",
       "      <td>8.000000</td>\n",
       "      <td>2.000000</td>\n",
       "      <td>11292.000000</td>\n",
       "      <td>11292.000000</td>\n",
       "      <td>920.000000</td>\n",
       "      <td>-4.000000</td>\n",
       "      <td>0.000000</td>\n",
       "      <td>1119.000000</td>\n",
       "      <td>-11.000000</td>\n",
       "      <td>0.000000</td>\n",
       "      <td>0.000000</td>\n",
       "    </tr>\n",
       "    <tr>\n",
       "      <th>50%</th>\n",
       "      <td>2013.0</td>\n",
       "      <td>7.000000</td>\n",
       "      <td>16.000000</td>\n",
       "      <td>4.000000</td>\n",
       "      <td>12892.000000</td>\n",
       "      <td>12892.000000</td>\n",
       "      <td>1320.000000</td>\n",
       "      <td>-1.000000</td>\n",
       "      <td>0.000000</td>\n",
       "      <td>1529.000000</td>\n",
       "      <td>-3.000000</td>\n",
       "      <td>0.000000</td>\n",
       "      <td>0.000000</td>\n",
       "    </tr>\n",
       "    <tr>\n",
       "      <th>75%</th>\n",
       "      <td>2013.0</td>\n",
       "      <td>9.000000</td>\n",
       "      <td>23.000000</td>\n",
       "      <td>6.000000</td>\n",
       "      <td>14057.000000</td>\n",
       "      <td>14057.000000</td>\n",
       "      <td>1725.000000</td>\n",
       "      <td>9.000000</td>\n",
       "      <td>0.000000</td>\n",
       "      <td>1918.000000</td>\n",
       "      <td>10.000000</td>\n",
       "      <td>0.000000</td>\n",
       "      <td>0.000000</td>\n",
       "    </tr>\n",
       "    <tr>\n",
       "      <th>max</th>\n",
       "      <td>2013.0</td>\n",
       "      <td>10.000000</td>\n",
       "      <td>31.000000</td>\n",
       "      <td>7.000000</td>\n",
       "      <td>15376.000000</td>\n",
       "      <td>15376.000000</td>\n",
       "      <td>2359.000000</td>\n",
       "      <td>1425.000000</td>\n",
       "      <td>1.000000</td>\n",
       "      <td>2359.000000</td>\n",
       "      <td>1440.000000</td>\n",
       "      <td>1.000000</td>\n",
       "      <td>1.000000</td>\n",
       "    </tr>\n",
       "  </tbody>\n",
       "</table>\n",
       "</div>"
      ],
      "text/plain": [
       "           Year          Month     DayofMonth      DayOfWeek  OriginAirportID  DestAirportID     CRSDepTime       DepDelay       DepDel15     CRSArrTime       ArrDelay       ArrDel15      Cancelled\n",
       "count  271940.0  271940.000000  271940.000000  271940.000000    271940.000000  271940.000000  271940.000000  271940.000000  269179.000000  271940.000000  271940.000000  271940.000000  271940.000000\n",
       "mean     2013.0       6.978514      15.814775       3.899316     12744.899584   12739.136493    1325.498713      10.350449       0.201134    1505.477819       6.496650       0.215930       0.010723\n",
       "std         0.0       1.982431       8.799033       1.987219      1501.199773    1502.569949     470.748546      35.673710       0.400849     493.204020      38.230331       0.411467       0.102995\n",
       "min      2013.0       4.000000       1.000000       1.000000     10140.000000   10140.000000       1.000000     -63.000000       0.000000       1.000000     -75.000000       0.000000       0.000000\n",
       "25%      2013.0       5.000000       8.000000       2.000000     11292.000000   11292.000000     920.000000      -4.000000       0.000000    1119.000000     -11.000000       0.000000       0.000000\n",
       "50%      2013.0       7.000000      16.000000       4.000000     12892.000000   12892.000000    1320.000000      -1.000000       0.000000    1529.000000      -3.000000       0.000000       0.000000\n",
       "75%      2013.0       9.000000      23.000000       6.000000     14057.000000   14057.000000    1725.000000       9.000000       0.000000    1918.000000      10.000000       0.000000       0.000000\n",
       "max      2013.0      10.000000      31.000000       7.000000     15376.000000   15376.000000    2359.000000    1425.000000       1.000000    2359.000000    1440.000000       1.000000       1.000000"
      ]
     },
     "execution_count": 4,
     "metadata": {},
     "output_type": "execute_result"
    }
   ],
   "source": [
    "# Get basic information about the dataset\n",
    "print(\"Dataset info:\")\n",
    "df_flights.info()\n",
    "print(\"\\nBasic statistics:\")\n",
    "df_flights.describe()"
   ]
  },
  {
   "cell_type": "code",
   "execution_count": 5,
   "metadata": {
    "execution": {
     "iopub.execute_input": "2025-09-25T09:25:37.159110Z",
     "iopub.status.busy": "2025-09-25T09:25:37.158916Z",
     "iopub.status.idle": "2025-09-25T09:25:37.229846Z",
     "shell.execute_reply": "2025-09-25T09:25:37.229282Z"
    }
   },
   "outputs": [
    {
     "name": "stdout",
     "output_type": "stream",
     "text": [
      "Null values per column:\n"
     ]
    },
    {
     "name": "stdout",
     "output_type": "stream",
     "text": [
      "Year                    0\n",
      "Month                   0\n",
      "DayofMonth              0\n",
      "DayOfWeek               0\n",
      "Carrier                 0\n",
      "OriginAirportID         0\n",
      "OriginAirportName       0\n",
      "OriginCity              0\n",
      "OriginState             0\n",
      "DestAirportID           0\n",
      "DestAirportName         0\n",
      "DestCity                0\n",
      "DestState               0\n",
      "CRSDepTime              0\n",
      "DepDelay                0\n",
      "DepDel15             2761\n",
      "CRSArrTime              0\n",
      "ArrDelay                0\n",
      "ArrDel15                0\n",
      "Cancelled               0\n",
      "dtype: int64\n",
      "\n",
      "Columns with null values:\n",
      "DepDel15    2761\n",
      "dtype: int64\n"
     ]
    }
   ],
   "source": [
    "# Check for null values in all columns\n",
    "print(\"Null values per column:\")\n",
    "null_counts = df_flights.isnull().sum()\n",
    "print(null_counts)\n",
    "\n",
    "# Show only columns with null values\n",
    "columns_with_nulls = null_counts[null_counts > 0]\n",
    "if len(columns_with_nulls) > 0:\n",
    "    print(f\"\\nColumns with null values:\\n{columns_with_nulls}\")\n",
    "else:\n",
    "    print(\"\\nNo null values found in the dataset.\")"
   ]
  },
  {
   "cell_type": "code",
   "execution_count": 6,
   "metadata": {
    "execution": {
     "iopub.execute_input": "2025-09-25T09:25:37.231664Z",
     "iopub.status.busy": "2025-09-25T09:25:37.231504Z",
     "iopub.status.idle": "2025-09-25T09:25:37.501727Z",
     "shell.execute_reply": "2025-09-25T09:25:37.501126Z"
    }
   },
   "outputs": [
    {
     "name": "stdout",
     "output_type": "stream",
     "text": [
      "Before cleaning:\n"
     ]
    },
    {
     "name": "stdout",
     "output_type": "stream",
     "text": [
      "Year                    0\n",
      "Month                   0\n",
      "DayofMonth              0\n",
      "DayOfWeek               0\n",
      "Carrier                 0\n",
      "OriginAirportID         0\n",
      "OriginAirportName       0\n",
      "OriginCity              0\n",
      "OriginState             0\n",
      "DestAirportID           0\n",
      "DestAirportName         0\n",
      "DestCity                0\n",
      "DestState               0\n",
      "CRSDepTime              0\n",
      "DepDelay                0\n",
      "DepDel15             2761\n",
      "CRSArrTime              0\n",
      "ArrDelay                0\n",
      "ArrDel15                0\n",
      "Cancelled               0\n",
      "dtype: int64\n"
     ]
    },
    {
     "name": "stdout",
     "output_type": "stream",
     "text": [
      "\n",
      "After cleaning (replacing nulls with 0):\n",
      "Year                 0\n",
      "Month                0\n",
      "DayofMonth           0\n",
      "DayOfWeek            0\n",
      "Carrier              0\n",
      "OriginAirportID      0\n",
      "OriginAirportName    0\n",
      "OriginCity           0\n",
      "OriginState          0\n",
      "DestAirportID        0\n",
      "DestAirportName      0\n",
      "DestCity             0\n",
      "DestState            0\n",
      "CRSDepTime           0\n",
      "DepDelay             0\n",
      "DepDel15             0\n",
      "CRSArrTime           0\n",
      "ArrDelay             0\n",
      "ArrDel15             0\n",
      "Cancelled            0\n",
      "dtype: int64\n",
      "\n",
      "Data cleaning completed!\n"
     ]
    }
   ],
   "source": [
    "# If there are null values, investigate and replace with appropriate values\n",
    "# Based on the requirement, we'll replace null values with zero\n",
    "\n",
    "if df_flights.isnull().sum().sum() > 0:\n",
    "    print(\"Before cleaning:\")\n",
    "    print(df_flights.isnull().sum())\n",
    "    \n",
    "    # Replace all null values with 0\n",
    "    df_flights.fillna(0, inplace=True)\n",
    "    \n",
    "    print(\"\\nAfter cleaning (replacing nulls with 0):\")\n",
    "    print(df_flights.isnull().sum())\n",
    "    print(\"\\nData cleaning completed!\")\n",
    "else:\n",
    "    print(\"No null values to clean.\")"
   ]
  },
  {
   "cell_type": "code",
   "execution_count": 7,
   "metadata": {
    "execution": {
     "iopub.execute_input": "2025-09-25T09:25:37.503552Z",
     "iopub.status.busy": "2025-09-25T09:25:37.503370Z",
     "iopub.status.idle": "2025-09-25T09:25:37.838246Z",
     "shell.execute_reply": "2025-09-25T09:25:37.837698Z"
    }
   },
   "outputs": [
    {
     "name": "stdout",
     "output_type": "stream",
     "text": [
      "Distribution of arrival delays (ArrDel15):\n",
      "ArrDel15\n",
      "0    213220\n",
      "1     58720\n",
      "Name: count, dtype: int64\n",
      "\n",
      "Percentage of delayed flights: 21.59%\n"
     ]
    },
    {
     "data": {
      "image/png": "[encoded data removed]",
      "text/plain": [
       "<Figure size 800x500 with 1 Axes>"
      ]
     },
     "metadata": {},
     "output_type": "display_data"
    }
   ],
   "source": [
    "# Explore the target variable (ArrDel15 - arrival delay more than 15 minutes)\n",
    "print(\"Distribution of arrival delays (ArrDel15):\")\n",
    "print(df_flights['ArrDel15'].value_counts())\n",
    "print(f\"\\nPercentage of delayed flights: {(df_flights['ArrDel15'].mean() * 100):.2f}%\")\n",
    "\n",
    "# Visualize the distribution\n",
    "plt.figure(figsize=(8, 5))\n",
    "sns.countplot(data=df_flights, x='ArrDel15')\n",
    "plt.title('Distribution of Flight Delays (ArrDel15)')\n",
    "plt.xlabel('Delayed (0=No, 1=Yes)')\n",
    "plt.ylabel('Count')\n",
    "plt.show()"
   ]
  },
  {
   "cell_type": "code",
   "execution_count": 8,
   "metadata": {
    "execution": {
     "iopub.execute_input": "2025-09-25T09:25:37.839979Z",
     "iopub.status.busy": "2025-09-25T09:25:37.839792Z",
     "iopub.status.idle": "2025-09-25T09:25:37.974828Z",
     "shell.execute_reply": "2025-09-25T09:25:37.974229Z"
    }
   },
   "outputs": [
    {
     "name": "stdout",
     "output_type": "stream",
     "text": [
      "Delay rates by day of week:\n",
      "   DayOfWeek  TotalFlights  DelayedFlights  DelayRate    DayName\n",
      "0          1         41053            8980   0.218742     Monday\n",
      "1          2         40019            7573   0.189235    Tuesday\n",
      "2          3         40776            9005   0.220841  Wednesday\n",
      "3          4         40656           10698   0.263135   Thursday\n",
      "4          5         39988            9648   0.241272     Friday\n",
      "5          6         31739            5313   0.167397   Saturday\n",
      "6          7         37709            7503   0.198971     Sunday\n"
     ]
    },
    {
     "data": {
      "image/png": "[encoded data removed]",
      "text/plain": [
       "<Figure size 1000x600 with 1 Axes>"
      ]
     },
     "metadata": {},
     "output_type": "display_data"
    }
   ],
   "source": [
    "# Explore delays by day of week\n",
    "delay_by_day = df_flights.groupby('DayOfWeek')['ArrDel15'].agg(['count', 'sum', 'mean']).reset_index()\n",
    "delay_by_day.columns = ['DayOfWeek', 'TotalFlights', 'DelayedFlights', 'DelayRate']\n",
    "\n",
    "# Add day names for better understanding\n",
    "day_names = {1: 'Monday', 2: 'Tuesday', 3: 'Wednesday', 4: 'Thursday', 5: 'Friday', 6: 'Saturday', 7: 'Sunday'}\n",
    "delay_by_day['DayName'] = delay_by_day['DayOfWeek'].map(day_names)\n",
    "\n",
    "print(\"Delay rates by day of week:\")\n",
    "print(delay_by_day)\n",
    "\n",
    "# Visualize delay rates by day of week\n",
    "plt.figure(figsize=(10, 6))\n",
    "sns.barplot(data=delay_by_day, x='DayName', y='DelayRate')\n",
    "plt.title('Flight Delay Rate by Day of Week')\n",
    "plt.xlabel('Day of Week')\n",
    "plt.ylabel('Delay Rate (Proportion)')\n",
    "plt.xticks(rotation=45)\n",
    "plt.tight_layout()\n",
    "plt.show()"
   ]
  },
  {
   "cell_type": "code",
   "execution_count": 9,
   "metadata": {
    "execution": {
     "iopub.execute_input": "2025-09-25T09:25:37.976731Z",
     "iopub.status.busy": "2025-09-25T09:25:37.976533Z",
     "iopub.status.idle": "2025-09-25T09:25:38.007204Z",
     "shell.execute_reply": "2025-09-25T09:25:38.006639Z"
    }
   },
   "outputs": [
    {
     "name": "stdout",
     "output_type": "stream",
     "text": [
      "Top 10 airports by total flights and their delay rates:\n",
      "    DestAirportID                           DestAirportName  TotalFlights  DelayedFlights  DelayRate\n",
      "2           10397  Hartsfield-Jackson Atlanta International         15014            2921   0.194552\n",
      "45          13930              Chicago O'Hare International         12930            3314   0.256303\n",
      "29          12892                 Los Angeles International         11970            2562   0.214035\n",
      "17          11298           Dallas/Fort Worth International         10376            2071   0.199595\n",
      "16          11292                      Denver International          9941            2270   0.228347\n",
      "50          14107          Phoenix Sky Harbor International          9179            1655   0.180303\n",
      "61          14771               San Francisco International          8342            2502   0.299928\n",
      "28          12889                    McCarran International          7859            1523   0.193791\n",
      "11          11057           Charlotte Douglas International          7779            1508   0.193855\n",
      "24          12266      George Bush Intercontinental/Houston          7422            1486   0.200216\n"
     ]
    }
   ],
   "source": [
    "# Explore delays by destination airport (top 10 airports with most flights)\n",
    "airport_stats = df_flights.groupby(['DestAirportID', 'DestAirportName'])['ArrDel15'].agg(['count', 'sum', 'mean']).reset_index()\n",
    "airport_stats.columns = ['DestAirportID', 'DestAirportName', 'TotalFlights', 'DelayedFlights', 'DelayRate']\n",
    "airport_stats = airport_stats.sort_values('TotalFlights', ascending=False)\n",
    "\n",
    "print(\"Top 10 airports by total flights and their delay rates:\")\n",
    "print(airport_stats.head(10))"
   ]
  },
  {
   "cell_type": "code",
   "execution_count": 10,
   "metadata": {
    "execution": {
     "iopub.execute_input": "2025-09-25T09:25:38.009014Z",
     "iopub.status.busy": "2025-09-25T09:25:38.008820Z",
     "iopub.status.idle": "2025-09-25T09:25:38.013143Z",
     "shell.execute_reply": "2025-09-25T09:25:38.012596Z"
    }
   },
   "outputs": [
    {
     "name": "stdout",
     "output_type": "stream",
     "text": [
      "Features shape: (271940, 2)\n",
      "Target shape: (271940,)\n",
      "\n",
      "Feature columns: ['DayOfWeek', 'DestAirportID']\n",
      "Target variable: ArrDel15\n"
     ]
    }
   ],
   "source": [
    "# Prepare data for machine learning model\n",
    "# Features: DayOfWeek and DestAirportID\n",
    "# Target: ArrDel15 (arrival delay more than 15 minutes)\n",
    "\n",
    "X = df_flights[['DayOfWeek', 'DestAirportID']]\n",
    "y = df_flights['ArrDel15']\n",
    "\n",
    "print(f\"Features shape: {X.shape}\")\n",
    "print(f\"Target shape: {y.shape}\")\n",
    "print(f\"\\nFeature columns: {X.columns.tolist()}\")\n",
    "print(f\"Target variable: ArrDel15\")"
   ]
  },
  {
   "cell_type": "code",
   "execution_count": 11,
   "metadata": {
    "execution": {
     "iopub.execute_input": "2025-09-25T09:25:38.014816Z",
     "iopub.status.busy": "2025-09-25T09:25:38.014663Z",
     "iopub.status.idle": "2025-09-25T09:25:38.084864Z",
     "shell.execute_reply": "2025-09-25T09:25:38.084337Z"
    }
   },
   "outputs": [
    {
     "name": "stdout",
     "output_type": "stream",
     "text": [
      "Training set size: 217552 samples\n",
      "Testing set size: 54388 samples\n",
      "\n",
      "Training set delay rate: 0.2159\n",
      "Testing set delay rate: 0.2159\n"
     ]
    }
   ],
   "source": [
    "# Split the data into training and testing sets\n",
    "X_train, X_test, y_train, y_test = train_test_split(X, y, test_size=0.2, random_state=42, stratify=y)\n",
    "\n",
    "print(f\"Training set size: {X_train.shape[0]} samples\")\n",
    "print(f\"Testing set size: {X_test.shape[0]} samples\")\n",
    "print(f\"\\nTraining set delay rate: {y_train.mean():.4f}\")\n",
    "print(f\"Testing set delay rate: {y_test.mean():.4f}\")"
   ]
  },
  {
   "cell_type": "code",
   "execution_count": 12,
   "metadata": {
    "execution": {
     "iopub.execute_input": "2025-09-25T09:25:38.086721Z",
     "iopub.status.busy": "2025-09-25T09:25:38.086557Z",
     "iopub.status.idle": "2025-09-25T09:25:38.502977Z",
     "shell.execute_reply": "2025-09-25T09:25:38.502480Z"
    }
   },
   "outputs": [
    {
     "name": "stdout",
     "output_type": "stream",
     "text": [
      "Training the logistic regression model...\n"
     ]
    },
    {
     "name": "stdout",
     "output_type": "stream",
     "text": [
      "Model training completed!\n",
      "\n",
      "Model coefficients: [-1.37752027e-02  1.44224734e-07]\n",
      "Model intercept: -1.2378802463935228\n"
     ]
    }
   ],
   "source": [
    "# Create and train the logistic regression model\n",
    "model = LogisticRegression(solver='lbfgs', random_state=42, max_iter=1000)\n",
    "\n",
    "print(\"Training the logistic regression model...\")\n",
    "model.fit(X_train, y_train)\n",
    "print(\"Model training completed!\")\n",
    "\n",
    "# Make predictions on the test set\n",
    "y_pred = model.predict(X_test)\n",
    "y_pred_proba = model.predict_proba(X_test)\n",
    "\n",
    "print(f\"\\nModel coefficients: {model.coef_[0]}\")\n",
    "print(f\"Model intercept: {model.intercept_[0]}\")"
   ]
  },
  {
   "cell_type": "code",
   "execution_count": 13,
   "metadata": {
    "execution": {
     "iopub.execute_input": "2025-09-25T09:25:38.506064Z",
     "iopub.status.busy": "2025-09-25T09:25:38.505828Z",
     "iopub.status.idle": "2025-09-25T09:25:38.734561Z",
     "shell.execute_reply": "2025-09-25T09:25:38.734067Z"
    }
   },
   "outputs": [
    {
     "name": "stdout",
     "output_type": "stream",
     "text": [
      "Model Accuracy: 0.7841\n",
      "\n",
      "Classification Report:\n",
      "              precision    recall  f1-score   support\n",
      "\n",
      "           0       0.78      1.00      0.88     42644\n",
      "           1       0.00      0.00      0.00     11744\n",
      "\n",
      "    accuracy                           0.78     54388\n",
      "   macro avg       0.39      0.50      0.44     54388\n",
      "weighted avg       0.61      0.78      0.69     54388\n",
      "\n",
      "\n",
      "Confusion Matrix:\n",
      "[[42644     0]\n",
      " [11744     0]]\n"
     ]
    },
    {
     "name": "stderr",
     "output_type": "stream",
     "text": [
      "/home/runner/.local/lib/python3.12/site-packages/sklearn/metrics/_classification.py:1731: UndefinedMetricWarning: Precision is ill-defined and being set to 0.0 in labels with no predicted samples. Use `zero_division` parameter to control this behavior.\n",
      "  _warn_prf(average, modifier, f\"{metric.capitalize()} is\", result.shape[0])\n",
      "/home/runner/.local/lib/python3.12/site-packages/sklearn/metrics/_classification.py:1731: UndefinedMetricWarning: Precision is ill-defined and being set to 0.0 in labels with no predicted samples. Use `zero_division` parameter to control this behavior.\n",
      "  _warn_prf(average, modifier, f\"{metric.capitalize()} is\", result.shape[0])\n",
      "/home/runner/.local/lib/python3.12/site-packages/sklearn/metrics/_classification.py:1731: UndefinedMetricWarning: Precision is ill-defined and being set to 0.0 in labels with no predicted samples. Use `zero_division` parameter to control this behavior.\n",
      "  _warn_prf(average, modifier, f\"{metric.capitalize()} is\", result.shape[0])\n"
     ]
    },
    {
     "data": {
      "image/png": "[encoded data removed]",
      "text/plain": [
       "<Figure size 800x600 with 2 Axes>"
      ]
     },
     "metadata": {},
     "output_type": "display_data"
    }
   ],
   "source": [
    "# Evaluate the model performance\n",
    "accuracy = accuracy_score(y_test, y_pred)\n",
    "print(f\"Model Accuracy: {accuracy:.4f}\")\n",
    "\n",
    "print(\"\\nClassification Report:\")\n",
    "print(classification_report(y_test, y_pred))\n",
    "\n",
    "print(\"\\nConfusion Matrix:\")\n",
    "cm = confusion_matrix(y_test, y_pred)\n",
    "print(cm)\n",
    "\n",
    "# Visualize confusion matrix\n",
    "plt.figure(figsize=(8, 6))\n",
    "sns.heatmap(cm, annot=True, fmt='d', cmap='Blues')\n",
    "plt.title('Confusion Matrix')\n",
    "plt.xlabel('Predicted')\n",
    "plt.ylabel('Actual')\n",
    "plt.show()"
   ]
  },
  {
   "cell_type": "code",
   "execution_count": 14,
   "metadata": {
    "execution": {
     "iopub.execute_input": "2025-09-25T09:25:38.736449Z",
     "iopub.status.busy": "2025-09-25T09:25:38.736287Z",
     "iopub.status.idle": "2025-09-25T09:25:38.741406Z",
     "shell.execute_reply": "2025-09-25T09:25:38.740865Z"
    }
   },
   "outputs": [
    {
     "name": "stdout",
     "output_type": "stream",
     "text": [
      "Sample prediction:\n",
      "Flight on Monday (1) to John F. Kennedy International (ID: 12478)\n",
      "Probability of NO delay: 0.7773 (77.73%)\n",
      "Probability of DELAY: 0.2227 (22.27%)\n"
     ]
    },
    {
     "name": "stderr",
     "output_type": "stream",
     "text": [
      "/home/runner/.local/lib/python3.12/site-packages/sklearn/utils/validation.py:2749: UserWarning: X does not have valid feature names, but LogisticRegression was fitted with feature names\n",
      "  warnings.warn(\n"
     ]
    }
   ],
   "source": [
    "# Test the model with a specific example\n",
    "# Example: Predict delay probability for Monday (1) to Las Vegas (12892)\n",
    "# Note: We'll find an actual airport ID from the data\n",
    "\n",
    "# Get a sample airport ID for testing\n",
    "sample_airport_id = df_flights['DestAirportID'].iloc[0]\n",
    "sample_airport_name = df_flights['DestAirportName'].iloc[0]\n",
    "\n",
    "# Test prediction for Monday (DayOfWeek=1) to the sample airport\n",
    "test_input = [[1, sample_airport_id]]\n",
    "delay_probability = model.predict_proba(test_input)[0]\n",
    "\n",
    "print(f\"Sample prediction:\")\n",
    "print(f\"Flight on Monday (1) to {sample_airport_name} (ID: {sample_airport_id})\")\n",
    "print(f\"Probability of NO delay: {delay_probability[0]:.4f} ({delay_probability[0]*100:.2f}%)\")\n",
    "print(f\"Probability of DELAY: {delay_probability[1]:.4f} ({delay_probability[1]*100:.2f}%)\")"
   ]
  },
  {
   "cell_type": "code",
   "execution_count": 15,
   "metadata": {
    "execution": {
     "iopub.execute_input": "2025-09-25T09:25:38.743022Z",
     "iopub.status.busy": "2025-09-25T09:25:38.742848Z",
     "iopub.status.idle": "2025-09-25T09:25:38.747794Z",
     "shell.execute_reply": "2025-09-25T09:25:38.747253Z"
    }
   },
   "outputs": [
    {
     "name": "stdout",
     "output_type": "stream",
     "text": [
      "Saving the trained model to flight_delay_model.pkl...\n",
      "Model saved successfully to flight_delay_model.pkl\n",
      "\n",
      "Testing model loading...\n",
      "Loaded model test prediction: [0.7772749 0.2227251]\n",
      "Model loading test successful!\n"
     ]
    },
    {
     "name": "stderr",
     "output_type": "stream",
     "text": [
      "/home/runner/.local/lib/python3.12/site-packages/sklearn/utils/validation.py:2749: UserWarning: X does not have valid feature names, but LogisticRegression was fitted with feature names\n",
      "  warnings.warn(\n"
     ]
    }
   ],
   "source": [
    "# Save the trained model to a pickle file for external use\n",
    "model_filename = 'flight_delay_model.pkl'\n",
    "\n",
    "print(f\"Saving the trained model to {model_filename}...\")\n",
    "with open(model_filename, 'wb') as file:\n",
    "    pickle.dump(model, file)\n",
    "\n",
    "print(f\"Model saved successfully to {model_filename}\")\n",
    "\n",
    "# Test loading the model to ensure it works\n",
    "print(\"\\nTesting model loading...\")\n",
    "with open(model_filename, 'rb') as file:\n",
    "    loaded_model = pickle.load(file)\n",
    "\n",
    "# Verify the loaded model works\n",
    "test_prediction = loaded_model.predict_proba(test_input)[0]\n",
    "print(f\"Loaded model test prediction: {test_prediction}\")\n",
    "print(\"Model loading test successful!\")"
   ]
  },
  {
   "cell_type": "code",
   "execution_count": 16,
   "metadata": {
    "execution": {
     "iopub.execute_input": "2025-09-25T09:25:38.749464Z",
     "iopub.status.busy": "2025-09-25T09:25:38.749293Z",
     "iopub.status.idle": "2025-09-25T09:25:38.803378Z",
     "shell.execute_reply": "2025-09-25T09:25:38.802735Z"
    }
   },
   "outputs": [
    {
     "name": "stdout",
     "output_type": "stream",
     "text": [
      "Total unique airports found: 70\n",
      "\n",
      "First 10 airports:\n",
      "   AirportID                                        AirportName\n",
      "0      10140                  Albuquerque International Sunport\n",
      "1      10423                   Austin - Bergstrom International\n",
      "2      10821  Baltimore/Washington International Thurgood Ma...\n",
      "3      10800                                           Bob Hope\n",
      "4      10529                              Bradley International\n",
      "5      10792                      Buffalo Niagara International\n",
      "6      11057                    Charlotte Douglas International\n",
      "7      13232                       Chicago Midway International\n",
      "8      13930                       Chicago O'Hare International\n",
      "9      11193         Cincinnati/Northern Kentucky International\n",
      "\n",
      "Airports data saved to airports.csv\n"
     ]
    }
   ],
   "source": [
    "# Create a CSV file with unique airports and their IDs\n",
    "# Using both origin and destination airports to get complete list\n",
    "\n",
    "# Get unique origin airports\n",
    "origin_airports = df_flights[['OriginAirportID', 'OriginAirportName']].drop_duplicates()\n",
    "origin_airports.columns = ['AirportID', 'AirportName']\n",
    "\n",
    "# Get unique destination airports\n",
    "dest_airports = df_flights[['DestAirportID', 'DestAirportName']].drop_duplicates()\n",
    "dest_airports.columns = ['AirportID', 'AirportName']\n",
    "\n",
    "# Combine and remove duplicates\n",
    "all_airports = pd.concat([origin_airports, dest_airports]).drop_duplicates()\n",
    "all_airports = all_airports.sort_values('AirportName').reset_index(drop=True)\n",
    "\n",
    "print(f\"Total unique airports found: {len(all_airports)}\")\n",
    "print(\"\\nFirst 10 airports:\")\n",
    "print(all_airports.head(10))\n",
    "\n",
    "# Save to CSV file\n",
    "airports_filename = 'airports.csv'\n",
    "all_airports.to_csv(airports_filename, index=False)\n",
    "print(f\"\\nAirports data saved to {airports_filename}\")"
   ]
  },
  {
   "cell_type": "code",
   "execution_count": 17,
   "metadata": {
    "execution": {
     "iopub.execute_input": "2025-09-25T09:25:38.805150Z",
     "iopub.status.busy": "2025-09-25T09:25:38.804973Z",
     "iopub.status.idle": "2025-09-25T09:25:38.808882Z",
     "shell.execute_reply": "2025-09-25T09:25:38.808407Z"
    }
   },
   "outputs": [
    {
     "name": "stdout",
     "output_type": "stream",
     "text": [
      "============================================================\n",
      "SUMMARY OF COMPLETED TASKS\n",
      "============================================================\n",
      "✅ 1. Data cleansing: Identified and replaced null values with zero\n",
      "✅ 2. Model creation: Built logistic regression model to predict flight delays\n",
      "   - Model accuracy: 0.7841\n",
      "   - Features: Day of Week and Destination Airport ID\n",
      "   - Target: Arrival delay more than 15 minutes (ArrDel15)\n",
      "✅ 3. Model export: Saved trained model to 'flight_delay_model.pkl'\n",
      "✅ 4. Airport data: Created 'airports.csv' with 70 unique airports\n",
      "\n",
      "All requirements have been successfully completed!\n"
     ]
    }
   ],
   "source": [
    "# Summary of completed tasks\n",
    "print(\"=\" * 60)\n",
    "print(\"SUMMARY OF COMPLETED TASKS\")\n",
    "print(\"=\" * 60)\n",
    "print(\"✅ 1. Data cleansing: Identified and replaced null values with zero\")\n",
    "print(\"✅ 2. Model creation: Built logistic regression model to predict flight delays\")\n",
    "print(f\"   - Model accuracy: {accuracy:.4f}\")\n",
    "print(f\"   - Features: Day of Week and Destination Airport ID\")\n",
    "print(f\"   - Target: Arrival delay more than 15 minutes (ArrDel15)\")\n",
    "print(f\"✅ 3. Model export: Saved trained model to '{model_filename}'\")\n",
    "print(f\"✅ 4. Airport data: Created '{airports_filename}' with {len(all_airports)} unique airports\")\n",
    "print(\"\\nAll requirements have been successfully completed!\")"
   ]
  }
 ],
 "metadata": {
  "kernelspec": {
   "display_name": "Python 3",
   "language": "python",
   "name": "python3"
  },
  "language_info": {
   "codemirror_mode": {
    "name": "ipython",
    "version": 3
   },
   "file_extension": ".py",
   "mimetype": "text/x-python",
   "name": "python",
   "nbconvert_exporter": "python",
   "pygments_lexer": "ipython3",
   "version": "3.12.3"
  }
 },
 "nbformat": 4,
 "nbformat_minor": 4
}
